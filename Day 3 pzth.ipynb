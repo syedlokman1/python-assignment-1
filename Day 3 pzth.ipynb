{
  "nbformat": 4,
  "nbformat_minor": 0,
  "metadata": {
    "colab": {
      "name": "Untitled0.ipynb",
      "provenance": []
    },
    "kernelspec": {
      "name": "python3",
      "display_name": "Python 3"
    },
    "language_info": {
      "name": "python"
    }
  },
  "cells": [
    {
      "cell_type": "markdown",
      "metadata": {
        "id": "XyiM0PWI4ri7"
      },
      "source": [
        "Assignment day 3"
      ]
    },
    {
      "cell_type": "code",
      "metadata": {
        "id": "IxohvMYW1ebF"
      },
      "source": [
        "import pandas as pd"
      ],
      "execution_count": 1,
      "outputs": []
    },
    {
      "cell_type": "code",
      "metadata": {
        "id": "977dKg7M1jYU"
      },
      "source": [
        "dataset = pd.read_csv('https://download.bls.gov/pub/time.series/cu/cu.item', sep='\\t')"
      ],
      "execution_count": 2,
      "outputs": []
    },
    {
      "cell_type": "code",
      "metadata": {
        "colab": {
          "base_uri": "https://localhost:8080/",
          "height": 206
        },
        "id": "ETdeQIaY1q3i",
        "outputId": "8e25ef84-fef3-407f-a896-3c94173d2bfb"
      },
      "source": [
        "dataset.head()"
      ],
      "execution_count": 3,
      "outputs": [
        {
          "output_type": "execute_result",
          "data": {
            "text/html": [
              "<div>\n",
              "<style scoped>\n",
              "    .dataframe tbody tr th:only-of-type {\n",
              "        vertical-align: middle;\n",
              "    }\n",
              "\n",
              "    .dataframe tbody tr th {\n",
              "        vertical-align: top;\n",
              "    }\n",
              "\n",
              "    .dataframe thead th {\n",
              "        text-align: right;\n",
              "    }\n",
              "</style>\n",
              "<table border=\"1\" class=\"dataframe\">\n",
              "  <thead>\n",
              "    <tr style=\"text-align: right;\">\n",
              "      <th></th>\n",
              "      <th>item_code</th>\n",
              "      <th>item_name</th>\n",
              "      <th>display_level</th>\n",
              "      <th>selectable</th>\n",
              "      <th>sort_sequence</th>\n",
              "    </tr>\n",
              "  </thead>\n",
              "  <tbody>\n",
              "    <tr>\n",
              "      <th>0</th>\n",
              "      <td>AA0</td>\n",
              "      <td>All items - old base</td>\n",
              "      <td>0</td>\n",
              "      <td>T</td>\n",
              "      <td>2</td>\n",
              "    </tr>\n",
              "    <tr>\n",
              "      <th>1</th>\n",
              "      <td>AA0R</td>\n",
              "      <td>Purchasing power of the consumer dollar - old ...</td>\n",
              "      <td>0</td>\n",
              "      <td>T</td>\n",
              "      <td>399</td>\n",
              "    </tr>\n",
              "    <tr>\n",
              "      <th>2</th>\n",
              "      <td>SA0</td>\n",
              "      <td>All items</td>\n",
              "      <td>0</td>\n",
              "      <td>T</td>\n",
              "      <td>1</td>\n",
              "    </tr>\n",
              "    <tr>\n",
              "      <th>3</th>\n",
              "      <td>SA0E</td>\n",
              "      <td>Energy</td>\n",
              "      <td>1</td>\n",
              "      <td>T</td>\n",
              "      <td>374</td>\n",
              "    </tr>\n",
              "    <tr>\n",
              "      <th>4</th>\n",
              "      <td>SA0L1</td>\n",
              "      <td>All items less food</td>\n",
              "      <td>1</td>\n",
              "      <td>T</td>\n",
              "      <td>358</td>\n",
              "    </tr>\n",
              "  </tbody>\n",
              "</table>\n",
              "</div>"
            ],
            "text/plain": [
              "  item_code  ... sort_sequence\n",
              "0       AA0  ...             2\n",
              "1      AA0R  ...           399\n",
              "2       SA0  ...             1\n",
              "3      SA0E  ...           374\n",
              "4     SA0L1  ...           358\n",
              "\n",
              "[5 rows x 5 columns]"
            ]
          },
          "metadata": {},
          "execution_count": 3
        }
      ]
    },
    {
      "cell_type": "code",
      "metadata": {
        "colab": {
          "base_uri": "https://localhost:8080/",
          "height": 206
        },
        "id": "KoGBRCxY1uX-",
        "outputId": "e28f5020-3187-4b2e-ad41-bf8a13aa39d7"
      },
      "source": [
        "dataset.tail()"
      ],
      "execution_count": 4,
      "outputs": [
        {
          "output_type": "execute_result",
          "data": {
            "text/html": [
              "<div>\n",
              "<style scoped>\n",
              "    .dataframe tbody tr th:only-of-type {\n",
              "        vertical-align: middle;\n",
              "    }\n",
              "\n",
              "    .dataframe tbody tr th {\n",
              "        vertical-align: top;\n",
              "    }\n",
              "\n",
              "    .dataframe thead th {\n",
              "        text-align: right;\n",
              "    }\n",
              "</style>\n",
              "<table border=\"1\" class=\"dataframe\">\n",
              "  <thead>\n",
              "    <tr style=\"text-align: right;\">\n",
              "      <th></th>\n",
              "      <th>item_code</th>\n",
              "      <th>item_name</th>\n",
              "      <th>display_level</th>\n",
              "      <th>selectable</th>\n",
              "      <th>sort_sequence</th>\n",
              "    </tr>\n",
              "  </thead>\n",
              "  <tbody>\n",
              "    <tr>\n",
              "      <th>394</th>\n",
              "      <td>SS68023</td>\n",
              "      <td>Tax return preparation and other accounting fees</td>\n",
              "      <td>4</td>\n",
              "      <td>T</td>\n",
              "      <td>352</td>\n",
              "    </tr>\n",
              "    <tr>\n",
              "      <th>395</th>\n",
              "      <td>SSEA011</td>\n",
              "      <td>College textbooks</td>\n",
              "      <td>3</td>\n",
              "      <td>T</td>\n",
              "      <td>314</td>\n",
              "    </tr>\n",
              "    <tr>\n",
              "      <th>396</th>\n",
              "      <td>SSFV031A</td>\n",
              "      <td>Food at elementary and secondary schools</td>\n",
              "      <td>3</td>\n",
              "      <td>T</td>\n",
              "      <td>122</td>\n",
              "    </tr>\n",
              "    <tr>\n",
              "      <th>397</th>\n",
              "      <td>SSGE013</td>\n",
              "      <td>Infants' equipment</td>\n",
              "      <td>3</td>\n",
              "      <td>T</td>\n",
              "      <td>355</td>\n",
              "    </tr>\n",
              "    <tr>\n",
              "      <th>398</th>\n",
              "      <td>SSHJ031</td>\n",
              "      <td>Infants' furniture</td>\n",
              "      <td>3</td>\n",
              "      <td>T</td>\n",
              "      <td>165</td>\n",
              "    </tr>\n",
              "  </tbody>\n",
              "</table>\n",
              "</div>"
            ],
            "text/plain": [
              "    item_code  ... sort_sequence\n",
              "394   SS68023  ...           352\n",
              "395   SSEA011  ...           314\n",
              "396  SSFV031A  ...           122\n",
              "397   SSGE013  ...           355\n",
              "398   SSHJ031  ...           165\n",
              "\n",
              "[5 rows x 5 columns]"
            ]
          },
          "metadata": {},
          "execution_count": 4
        }
      ]
    },
    {
      "cell_type": "code",
      "metadata": {
        "colab": {
          "base_uri": "https://localhost:8080/"
        },
        "id": "Ra0gB6mS11HM",
        "outputId": "dffb83b4-3a23-46b9-e1b7-41b03c6d3fb4"
      },
      "source": [
        "dataset.info()"
      ],
      "execution_count": 5,
      "outputs": [
        {
          "output_type": "stream",
          "name": "stdout",
          "text": [
            "<class 'pandas.core.frame.DataFrame'>\n",
            "RangeIndex: 399 entries, 0 to 398\n",
            "Data columns (total 5 columns):\n",
            " #   Column         Non-Null Count  Dtype \n",
            "---  ------         --------------  ----- \n",
            " 0   item_code      399 non-null    object\n",
            " 1   item_name      399 non-null    object\n",
            " 2   display_level  399 non-null    int64 \n",
            " 3   selectable     399 non-null    object\n",
            " 4   sort_sequence  399 non-null    int64 \n",
            "dtypes: int64(2), object(3)\n",
            "memory usage: 15.7+ KB\n"
          ]
        }
      ]
    },
    {
      "cell_type": "code",
      "metadata": {
        "colab": {
          "base_uri": "https://localhost:8080/"
        },
        "id": "AvKToNlO1781",
        "outputId": "99562317-451c-4ad6-e149-05aabb2ff1f2"
      },
      "source": [
        "dataset['item_code'].unique()"
      ],
      "execution_count": 8,
      "outputs": [
        {
          "output_type": "execute_result",
          "data": {
            "text/plain": [
              "array(['AA0', 'AA0R', 'SA0', 'SA0E', 'SA0L1', 'SA0L12', 'SA0L12E',\n",
              "       'SA0L12E4', 'SA0L1E', 'SA0L2', 'SA0L5', 'SA0LE', 'SA0R', 'SA311',\n",
              "       'SAA', 'SAA1', 'SAA2', 'SAC', 'SACE', 'SACL1', 'SACL11', 'SACL1E',\n",
              "       'SACL1E4', 'SAD', 'SAE', 'SAE1', 'SAE2', 'SAE21', 'SAEC', 'SAES',\n",
              "       'SAF', 'SAF1', 'SAF11', 'SAF111', 'SAF112', 'SAF1121', 'SAF11211',\n",
              "       'SAF113', 'SAF1131', 'SAF114', 'SAF115', 'SAF116', 'SAG', 'SAG1',\n",
              "       'SAGC', 'SAGS', 'SAH', 'SAH1', 'SAH2', 'SAH21', 'SAH3', 'SAH31',\n",
              "       'SAM', 'SAM1', 'SAM2', 'SAN', 'SAN1D', 'SANL1', 'SANL11',\n",
              "       'SANL113', 'SANL13', 'SAR', 'SARC', 'SARS', 'SAS', 'SAS24',\n",
              "       'SAS2RS', 'SAS367', 'SAS4', 'SASL2RS', 'SASL5', 'SASLE', 'SAT',\n",
              "       'SAT1', 'SATCLTB', 'SEAA', 'SEAA01', 'SEAA02', 'SEAA03', 'SEAA04',\n",
              "       'SEAB', 'SEAC', 'SEAC01', 'SEAC02', 'SEAC03', 'SEAC04', 'SEAD',\n",
              "       'SEAE', 'SEAE01', 'SEAE02', 'SEAE03', 'SEAF', 'SEAG', 'SEAG01',\n",
              "       'SEAG02', 'SEEA', 'SEEB', 'SEEB01', 'SEEB02', 'SEEB03', 'SEEB04',\n",
              "       'SEEC', 'SEEC01', 'SEEC02', 'SEED', 'SEED03', 'SEED04', 'SEEE',\n",
              "       'SEEE01', 'SEEE02', 'SEEE03', 'SEEE04', 'SEEEC', 'SEFA', 'SEFA01',\n",
              "       'SEFA02', 'SEFA03', 'SEFB', 'SEFB01', 'SEFB02', 'SEFB03', 'SEFB04',\n",
              "       'SEFC', 'SEFC01', 'SEFC02', 'SEFC03', 'SEFC04', 'SEFD', 'SEFD01',\n",
              "       'SEFD02', 'SEFD03', 'SEFD04', 'SEFE', 'SEFF', 'SEFF01', 'SEFF02',\n",
              "       'SEFG', 'SEFG01', 'SEFG02', 'SEFH', 'SEFJ', 'SEFJ01', 'SEFJ02',\n",
              "       'SEFJ03', 'SEFJ04', 'SEFK', 'SEFK01', 'SEFK02', 'SEFK03', 'SEFK04',\n",
              "       'SEFL', 'SEFL01', 'SEFL02', 'SEFL03', 'SEFL04', 'SEFM', 'SEFM01',\n",
              "       'SEFM02', 'SEFM03', 'SEFN', 'SEFN01', 'SEFN02', 'SEFN03', 'SEFP',\n",
              "       'SEFP01', 'SEFP02', 'SEFR', 'SEFR01', 'SEFR02', 'SEFR03', 'SEFS',\n",
              "       'SEFS01', 'SEFS02', 'SEFS03', 'SEFT', 'SEFT01', 'SEFT02', 'SEFT03',\n",
              "       'SEFT04', 'SEFT05', 'SEFT06', 'SEFV', 'SEFV01', 'SEFV02', 'SEFV03',\n",
              "       'SEFV04', 'SEFV05', 'SEFW', 'SEFW01', 'SEFW02', 'SEFW03', 'SEFX',\n",
              "       'SEGA', 'SEGA01', 'SEGA02', 'SEGB', 'SEGB01', 'SEGB02', 'SEGC',\n",
              "       'SEGC01', 'SEGD', 'SEGD01', 'SEGD02', 'SEGD03', 'SEGD04', 'SEGD05',\n",
              "       'SEGE', 'SEHA', 'SEHB', 'SEHB01', 'SEHB02', 'SEHC', 'SEHC01',\n",
              "       'SEHD', 'SEHE', 'SEHE01', 'SEHE02', 'SEHF', 'SEHF01', 'SEHF02',\n",
              "       'SEHG', 'SEHG01', 'SEHG02', 'SEHH', 'SEHH01', 'SEHH02', 'SEHH03',\n",
              "       'SEHJ', 'SEHJ01', 'SEHJ02', 'SEHJ03', 'SEHK', 'SEHK01', 'SEHK02',\n",
              "       'SEHL', 'SEHL01', 'SEHL02', 'SEHL03', 'SEHL04', 'SEHM', 'SEHM01',\n",
              "       'SEHM02', 'SEHN', 'SEHN01', 'SEHN02', 'SEHN03', 'SEHP', 'SEHP01',\n",
              "       'SEHP02', 'SEHP03', 'SEHP04', 'SEMC', 'SEMC01', 'SEMC02', 'SEMC03',\n",
              "       'SEMC04', 'SEMD', 'SEMD01', 'SEMD02', 'SEMD03', 'SEME', 'SEMF',\n",
              "       'SEMF01', 'SEMF02', 'SEMG', 'SERA', 'SERA01', 'SERA02', 'SERA03',\n",
              "       'SERA04', 'SERA05', 'SERA06', 'SERAC', 'SERAS', 'SERB', 'SERB01',\n",
              "       'SERB02', 'SERC', 'SERC01', 'SERC02', 'SERD', 'SERD01', 'SERD02',\n",
              "       'SERE', 'SERE01', 'SERE02', 'SERE03', 'SERF', 'SERF01', 'SERF02',\n",
              "       'SERF03', 'SERG', 'SERG01', 'SERG02', 'SETA', 'SETA01', 'SETA02',\n",
              "       'SETA03', 'SETA04', 'SETB', 'SETB01', 'SETB02', 'SETC', 'SETC01',\n",
              "       'SETC02', 'SETD', 'SETD01', 'SETD02', 'SETD03', 'SETE', 'SETF',\n",
              "       'SETF01', 'SETF03', 'SETG', 'SETG01', 'SETG02', 'SETG03',\n",
              "       'SS01031', 'SS02011', 'SS02021', 'SS02041', 'SS02042', 'SS02063',\n",
              "       'SS0206A', 'SS0206B', 'SS04011', 'SS04012', 'SS04031', 'SS05011',\n",
              "       'SS05014', 'SS05015', 'SS0501A', 'SS06011', 'SS06021', 'SS07011',\n",
              "       'SS07021', 'SS09011', 'SS09021', 'SS10011', 'SS11031', 'SS13031',\n",
              "       'SS14011', 'SS14021', 'SS14022', 'SS16011', 'SS16014', 'SS17031',\n",
              "       'SS17032', 'SS18041', 'SS18042', 'SS18043', 'SS1804B', 'SS18064',\n",
              "       'SS20021', 'SS20022', 'SS20051', 'SS20052', 'SS20053', 'SS27051',\n",
              "       'SS27061', 'SS30021', 'SS31022', 'SS31023', 'SS33032', 'SS45011',\n",
              "       'SS4501A', 'SS45021', 'SS45031', 'SS47014', 'SS47015', 'SS47016',\n",
              "       'SS47021', 'SS48021', 'SS52051', 'SS53021', 'SS53022', 'SS53023',\n",
              "       'SS53031', 'SS5702', 'SS5703', 'SS61011', 'SS61021', 'SS61023',\n",
              "       'SS61031', 'SS61032', 'SS62011', 'SS62031', 'SS62032', 'SS62051',\n",
              "       'SS62052', 'SS62053', 'SS62054', 'SS62055', 'SS68021', 'SS68023',\n",
              "       'SSEA011', 'SSFV031A', 'SSGE013', 'SSHJ031'], dtype=object)"
            ]
          },
          "metadata": {},
          "execution_count": 8
        }
      ]
    },
    {
      "cell_type": "code",
      "metadata": {
        "colab": {
          "base_uri": "https://localhost:8080/",
          "height": 425
        },
        "id": "i_vCHFJG2D1y",
        "outputId": "28b71901-3450-4920-b85c-c137695d6354"
      },
      "source": [
        "dataset[dataset['display_level']==0]"
      ],
      "execution_count": 9,
      "outputs": [
        {
          "output_type": "execute_result",
          "data": {
            "text/html": [
              "<div>\n",
              "<style scoped>\n",
              "    .dataframe tbody tr th:only-of-type {\n",
              "        vertical-align: middle;\n",
              "    }\n",
              "\n",
              "    .dataframe tbody tr th {\n",
              "        vertical-align: top;\n",
              "    }\n",
              "\n",
              "    .dataframe thead th {\n",
              "        text-align: right;\n",
              "    }\n",
              "</style>\n",
              "<table border=\"1\" class=\"dataframe\">\n",
              "  <thead>\n",
              "    <tr style=\"text-align: right;\">\n",
              "      <th></th>\n",
              "      <th>item_code</th>\n",
              "      <th>item_name</th>\n",
              "      <th>display_level</th>\n",
              "      <th>selectable</th>\n",
              "      <th>sort_sequence</th>\n",
              "    </tr>\n",
              "  </thead>\n",
              "  <tbody>\n",
              "    <tr>\n",
              "      <th>0</th>\n",
              "      <td>AA0</td>\n",
              "      <td>All items - old base</td>\n",
              "      <td>0</td>\n",
              "      <td>T</td>\n",
              "      <td>2</td>\n",
              "    </tr>\n",
              "    <tr>\n",
              "      <th>1</th>\n",
              "      <td>AA0R</td>\n",
              "      <td>Purchasing power of the consumer dollar - old ...</td>\n",
              "      <td>0</td>\n",
              "      <td>T</td>\n",
              "      <td>399</td>\n",
              "    </tr>\n",
              "    <tr>\n",
              "      <th>2</th>\n",
              "      <td>SA0</td>\n",
              "      <td>All items</td>\n",
              "      <td>0</td>\n",
              "      <td>T</td>\n",
              "      <td>1</td>\n",
              "    </tr>\n",
              "    <tr>\n",
              "      <th>12</th>\n",
              "      <td>SA0R</td>\n",
              "      <td>Purchasing power of the consumer dollar</td>\n",
              "      <td>0</td>\n",
              "      <td>T</td>\n",
              "      <td>398</td>\n",
              "    </tr>\n",
              "    <tr>\n",
              "      <th>14</th>\n",
              "      <td>SAA</td>\n",
              "      <td>Apparel</td>\n",
              "      <td>0</td>\n",
              "      <td>T</td>\n",
              "      <td>187</td>\n",
              "    </tr>\n",
              "    <tr>\n",
              "      <th>24</th>\n",
              "      <td>SAE</td>\n",
              "      <td>Education and communication</td>\n",
              "      <td>0</td>\n",
              "      <td>T</td>\n",
              "      <td>311</td>\n",
              "    </tr>\n",
              "    <tr>\n",
              "      <th>30</th>\n",
              "      <td>SAF</td>\n",
              "      <td>Food and beverages</td>\n",
              "      <td>0</td>\n",
              "      <td>T</td>\n",
              "      <td>3</td>\n",
              "    </tr>\n",
              "    <tr>\n",
              "      <th>42</th>\n",
              "      <td>SAG</td>\n",
              "      <td>Other goods and services</td>\n",
              "      <td>0</td>\n",
              "      <td>T</td>\n",
              "      <td>335</td>\n",
              "    </tr>\n",
              "    <tr>\n",
              "      <th>46</th>\n",
              "      <td>SAH</td>\n",
              "      <td>Housing</td>\n",
              "      <td>0</td>\n",
              "      <td>T</td>\n",
              "      <td>136</td>\n",
              "    </tr>\n",
              "    <tr>\n",
              "      <th>52</th>\n",
              "      <td>SAM</td>\n",
              "      <td>Medical care</td>\n",
              "      <td>0</td>\n",
              "      <td>T</td>\n",
              "      <td>250</td>\n",
              "    </tr>\n",
              "    <tr>\n",
              "      <th>61</th>\n",
              "      <td>SAR</td>\n",
              "      <td>Recreation</td>\n",
              "      <td>0</td>\n",
              "      <td>T</td>\n",
              "      <td>269</td>\n",
              "    </tr>\n",
              "    <tr>\n",
              "      <th>72</th>\n",
              "      <td>SAT</td>\n",
              "      <td>Transportation</td>\n",
              "      <td>0</td>\n",
              "      <td>T</td>\n",
              "      <td>210</td>\n",
              "    </tr>\n",
              "  </tbody>\n",
              "</table>\n",
              "</div>"
            ],
            "text/plain": [
              "   item_code  ... sort_sequence\n",
              "0        AA0  ...             2\n",
              "1       AA0R  ...           399\n",
              "2        SA0  ...             1\n",
              "12      SA0R  ...           398\n",
              "14       SAA  ...           187\n",
              "24       SAE  ...           311\n",
              "30       SAF  ...             3\n",
              "42       SAG  ...           335\n",
              "46       SAH  ...           136\n",
              "52       SAM  ...           250\n",
              "61       SAR  ...           269\n",
              "72       SAT  ...           210\n",
              "\n",
              "[12 rows x 5 columns]"
            ]
          },
          "metadata": {},
          "execution_count": 9
        }
      ]
    },
    {
      "cell_type": "code",
      "metadata": {
        "colab": {
          "base_uri": "https://localhost:8080/",
          "height": 423
        },
        "id": "eZIJcWTS2n_1",
        "outputId": "9d011a4b-bf75-437a-feb1-9d2067b1f74c"
      },
      "source": [
        "dataset[dataset['selectable'] == 'T']"
      ],
      "execution_count": 13,
      "outputs": [
        {
          "output_type": "execute_result",
          "data": {
            "text/html": [
              "<div>\n",
              "<style scoped>\n",
              "    .dataframe tbody tr th:only-of-type {\n",
              "        vertical-align: middle;\n",
              "    }\n",
              "\n",
              "    .dataframe tbody tr th {\n",
              "        vertical-align: top;\n",
              "    }\n",
              "\n",
              "    .dataframe thead th {\n",
              "        text-align: right;\n",
              "    }\n",
              "</style>\n",
              "<table border=\"1\" class=\"dataframe\">\n",
              "  <thead>\n",
              "    <tr style=\"text-align: right;\">\n",
              "      <th></th>\n",
              "      <th>item_code</th>\n",
              "      <th>item_name</th>\n",
              "      <th>display_level</th>\n",
              "      <th>selectable</th>\n",
              "      <th>sort_sequence</th>\n",
              "    </tr>\n",
              "  </thead>\n",
              "  <tbody>\n",
              "    <tr>\n",
              "      <th>0</th>\n",
              "      <td>AA0</td>\n",
              "      <td>All items - old base</td>\n",
              "      <td>0</td>\n",
              "      <td>T</td>\n",
              "      <td>2</td>\n",
              "    </tr>\n",
              "    <tr>\n",
              "      <th>1</th>\n",
              "      <td>AA0R</td>\n",
              "      <td>Purchasing power of the consumer dollar - old ...</td>\n",
              "      <td>0</td>\n",
              "      <td>T</td>\n",
              "      <td>399</td>\n",
              "    </tr>\n",
              "    <tr>\n",
              "      <th>2</th>\n",
              "      <td>SA0</td>\n",
              "      <td>All items</td>\n",
              "      <td>0</td>\n",
              "      <td>T</td>\n",
              "      <td>1</td>\n",
              "    </tr>\n",
              "    <tr>\n",
              "      <th>3</th>\n",
              "      <td>SA0E</td>\n",
              "      <td>Energy</td>\n",
              "      <td>1</td>\n",
              "      <td>T</td>\n",
              "      <td>374</td>\n",
              "    </tr>\n",
              "    <tr>\n",
              "      <th>4</th>\n",
              "      <td>SA0L1</td>\n",
              "      <td>All items less food</td>\n",
              "      <td>1</td>\n",
              "      <td>T</td>\n",
              "      <td>358</td>\n",
              "    </tr>\n",
              "    <tr>\n",
              "      <th>...</th>\n",
              "      <td>...</td>\n",
              "      <td>...</td>\n",
              "      <td>...</td>\n",
              "      <td>...</td>\n",
              "      <td>...</td>\n",
              "    </tr>\n",
              "    <tr>\n",
              "      <th>394</th>\n",
              "      <td>SS68023</td>\n",
              "      <td>Tax return preparation and other accounting fees</td>\n",
              "      <td>4</td>\n",
              "      <td>T</td>\n",
              "      <td>352</td>\n",
              "    </tr>\n",
              "    <tr>\n",
              "      <th>395</th>\n",
              "      <td>SSEA011</td>\n",
              "      <td>College textbooks</td>\n",
              "      <td>3</td>\n",
              "      <td>T</td>\n",
              "      <td>314</td>\n",
              "    </tr>\n",
              "    <tr>\n",
              "      <th>396</th>\n",
              "      <td>SSFV031A</td>\n",
              "      <td>Food at elementary and secondary schools</td>\n",
              "      <td>3</td>\n",
              "      <td>T</td>\n",
              "      <td>122</td>\n",
              "    </tr>\n",
              "    <tr>\n",
              "      <th>397</th>\n",
              "      <td>SSGE013</td>\n",
              "      <td>Infants' equipment</td>\n",
              "      <td>3</td>\n",
              "      <td>T</td>\n",
              "      <td>355</td>\n",
              "    </tr>\n",
              "    <tr>\n",
              "      <th>398</th>\n",
              "      <td>SSHJ031</td>\n",
              "      <td>Infants' furniture</td>\n",
              "      <td>3</td>\n",
              "      <td>T</td>\n",
              "      <td>165</td>\n",
              "    </tr>\n",
              "  </tbody>\n",
              "</table>\n",
              "<p>399 rows × 5 columns</p>\n",
              "</div>"
            ],
            "text/plain": [
              "    item_code  ... sort_sequence\n",
              "0         AA0  ...             2\n",
              "1        AA0R  ...           399\n",
              "2         SA0  ...             1\n",
              "3        SA0E  ...           374\n",
              "4       SA0L1  ...           358\n",
              "..        ...  ...           ...\n",
              "394   SS68023  ...           352\n",
              "395   SSEA011  ...           314\n",
              "396  SSFV031A  ...           122\n",
              "397   SSGE013  ...           355\n",
              "398   SSHJ031  ...           165\n",
              "\n",
              "[399 rows x 5 columns]"
            ]
          },
          "metadata": {},
          "execution_count": 13
        }
      ]
    },
    {
      "cell_type": "code",
      "metadata": {
        "id": "2SKkbsEs2-wQ"
      },
      "source": [
        "dataset2 = dataset[dataset['sort_sequence']>=100]"
      ],
      "execution_count": 14,
      "outputs": []
    },
    {
      "cell_type": "code",
      "metadata": {
        "colab": {
          "base_uri": "https://localhost:8080/"
        },
        "id": "U3TdGawK3TXa",
        "outputId": "72030751-2add-433c-9599-ddde367462ac"
      },
      "source": [
        "dataset2['display_level'].unique()"
      ],
      "execution_count": 15,
      "outputs": [
        {
          "output_type": "execute_result",
          "data": {
            "text/plain": [
              "array([0, 1, 2, 3, 4, 5, 6])"
            ]
          },
          "metadata": {},
          "execution_count": 15
        }
      ]
    },
    {
      "cell_type": "code",
      "metadata": {
        "colab": {
          "base_uri": "https://localhost:8080/"
        },
        "id": "RblFgk6e3WfF",
        "outputId": "655653e5-89c9-4c57-dc0e-686c2814770e"
      },
      "source": [
        "dataset['sort_sequence'].value_counts()"
      ],
      "execution_count": 16,
      "outputs": [
        {
          "output_type": "execute_result",
          "data": {
            "text/plain": [
              "399    1\n",
              "125    1\n",
              "127    1\n",
              "128    1\n",
              "129    1\n",
              "      ..\n",
              "269    1\n",
              "270    1\n",
              "271    1\n",
              "272    1\n",
              "1      1\n",
              "Name: sort_sequence, Length: 399, dtype: int64"
            ]
          },
          "metadata": {},
          "execution_count": 16
        }
      ]
    },
    {
      "cell_type": "code",
      "metadata": {
        "colab": {
          "base_uri": "https://localhost:8080/"
        },
        "id": "EzcehGc-3bU1",
        "outputId": "f7d5fa18-d8a6-4343-c7e8-f17871c3a247"
      },
      "source": [
        "dataset.iloc[:,2].describe()"
      ],
      "execution_count": 17,
      "outputs": [
        {
          "output_type": "execute_result",
          "data": {
            "text/plain": [
              "count    399.000000\n",
              "mean       3.192982\n",
              "std        1.817102\n",
              "min        0.000000\n",
              "25%        2.000000\n",
              "50%        3.000000\n",
              "75%        4.000000\n",
              "max        8.000000\n",
              "Name: display_level, dtype: float64"
            ]
          },
          "metadata": {},
          "execution_count": 17
        }
      ]
    },
    {
      "cell_type": "code",
      "metadata": {
        "colab": {
          "base_uri": "https://localhost:8080/",
          "height": 112
        },
        "id": "K6ASyfbo3gp8",
        "outputId": "ca5534e4-54de-4829-d409-086832bf7564"
      },
      "source": [
        "dataset.corr()"
      ],
      "execution_count": 18,
      "outputs": [
        {
          "output_type": "execute_result",
          "data": {
            "text/html": [
              "<div>\n",
              "<style scoped>\n",
              "    .dataframe tbody tr th:only-of-type {\n",
              "        vertical-align: middle;\n",
              "    }\n",
              "\n",
              "    .dataframe tbody tr th {\n",
              "        vertical-align: top;\n",
              "    }\n",
              "\n",
              "    .dataframe thead th {\n",
              "        text-align: right;\n",
              "    }\n",
              "</style>\n",
              "<table border=\"1\" class=\"dataframe\">\n",
              "  <thead>\n",
              "    <tr style=\"text-align: right;\">\n",
              "      <th></th>\n",
              "      <th>display_level</th>\n",
              "      <th>sort_sequence</th>\n",
              "    </tr>\n",
              "  </thead>\n",
              "  <tbody>\n",
              "    <tr>\n",
              "      <th>display_level</th>\n",
              "      <td>1.00000</td>\n",
              "      <td>-0.70548</td>\n",
              "    </tr>\n",
              "    <tr>\n",
              "      <th>sort_sequence</th>\n",
              "      <td>-0.70548</td>\n",
              "      <td>1.00000</td>\n",
              "    </tr>\n",
              "  </tbody>\n",
              "</table>\n",
              "</div>"
            ],
            "text/plain": [
              "               display_level  sort_sequence\n",
              "display_level        1.00000       -0.70548\n",
              "sort_sequence       -0.70548        1.00000"
            ]
          },
          "metadata": {},
          "execution_count": 18
        }
      ]
    },
    {
      "cell_type": "code",
      "metadata": {
        "id": "xddAwaRc3jx4"
      },
      "source": [
        "dataset3 = dataset\n",
        "count_of_columns = dataset3.count()"
      ],
      "execution_count": 19,
      "outputs": []
    },
    {
      "cell_type": "code",
      "metadata": {
        "colab": {
          "base_uri": "https://localhost:8080/"
        },
        "id": "6Pkb93gY3nzB",
        "outputId": "bb131df0-959b-4d2c-89a0-44fb6cf1e786"
      },
      "source": [
        "count_of_columns"
      ],
      "execution_count": 20,
      "outputs": [
        {
          "output_type": "execute_result",
          "data": {
            "text/plain": [
              "item_code        399\n",
              "item_name        399\n",
              "display_level    399\n",
              "selectable       399\n",
              "sort_sequence    399\n",
              "dtype: int64"
            ]
          },
          "metadata": {},
          "execution_count": 20
        }
      ]
    },
    {
      "cell_type": "code",
      "metadata": {
        "colab": {
          "base_uri": "https://localhost:8080/"
        },
        "id": "xbVOwSAl3swL",
        "outputId": "c4a10a59-e712-4765-b07b-3700ff10de0d"
      },
      "source": [
        "number_of_nan_rows = count_of_columns - dataset3.dropna(axis=0).count()\n",
        "number_of_nan_rows"
      ],
      "execution_count": 21,
      "outputs": [
        {
          "output_type": "execute_result",
          "data": {
            "text/plain": [
              "item_code        0\n",
              "item_name        0\n",
              "display_level    0\n",
              "selectable       0\n",
              "sort_sequence    0\n",
              "dtype: int64"
            ]
          },
          "metadata": {},
          "execution_count": 21
        }
      ]
    },
    {
      "cell_type": "code",
      "metadata": {
        "colab": {
          "base_uri": "https://localhost:8080/",
          "height": 206
        },
        "id": "EC1frycr3v1X",
        "outputId": "a0a8051a-da68-42f0-a6ef-54f12575a5b8"
      },
      "source": [
        "dataset[(dataset['display_level']<=2) & (dataset['sort_sequence']<=10)]"
      ],
      "execution_count": 22,
      "outputs": [
        {
          "output_type": "execute_result",
          "data": {
            "text/html": [
              "<div>\n",
              "<style scoped>\n",
              "    .dataframe tbody tr th:only-of-type {\n",
              "        vertical-align: middle;\n",
              "    }\n",
              "\n",
              "    .dataframe tbody tr th {\n",
              "        vertical-align: top;\n",
              "    }\n",
              "\n",
              "    .dataframe thead th {\n",
              "        text-align: right;\n",
              "    }\n",
              "</style>\n",
              "<table border=\"1\" class=\"dataframe\">\n",
              "  <thead>\n",
              "    <tr style=\"text-align: right;\">\n",
              "      <th></th>\n",
              "      <th>item_code</th>\n",
              "      <th>item_name</th>\n",
              "      <th>display_level</th>\n",
              "      <th>selectable</th>\n",
              "      <th>sort_sequence</th>\n",
              "    </tr>\n",
              "  </thead>\n",
              "  <tbody>\n",
              "    <tr>\n",
              "      <th>0</th>\n",
              "      <td>AA0</td>\n",
              "      <td>All items - old base</td>\n",
              "      <td>0</td>\n",
              "      <td>T</td>\n",
              "      <td>2</td>\n",
              "    </tr>\n",
              "    <tr>\n",
              "      <th>2</th>\n",
              "      <td>SA0</td>\n",
              "      <td>All items</td>\n",
              "      <td>0</td>\n",
              "      <td>T</td>\n",
              "      <td>1</td>\n",
              "    </tr>\n",
              "    <tr>\n",
              "      <th>30</th>\n",
              "      <td>SAF</td>\n",
              "      <td>Food and beverages</td>\n",
              "      <td>0</td>\n",
              "      <td>T</td>\n",
              "      <td>3</td>\n",
              "    </tr>\n",
              "    <tr>\n",
              "      <th>31</th>\n",
              "      <td>SAF1</td>\n",
              "      <td>Food</td>\n",
              "      <td>1</td>\n",
              "      <td>T</td>\n",
              "      <td>4</td>\n",
              "    </tr>\n",
              "    <tr>\n",
              "      <th>32</th>\n",
              "      <td>SAF11</td>\n",
              "      <td>Food at home</td>\n",
              "      <td>2</td>\n",
              "      <td>T</td>\n",
              "      <td>5</td>\n",
              "    </tr>\n",
              "  </tbody>\n",
              "</table>\n",
              "</div>"
            ],
            "text/plain": [
              "   item_code             item_name  display_level selectable  sort_sequence\n",
              "0        AA0  All items - old base              0          T              2\n",
              "2        SA0             All items              0          T              1\n",
              "30       SAF    Food and beverages              0          T              3\n",
              "31      SAF1                  Food              1          T              4\n",
              "32     SAF11          Food at home              2          T              5"
            ]
          },
          "metadata": {},
          "execution_count": 22
        }
      ]
    },
    {
      "cell_type": "code",
      "metadata": {
        "id": "hE3Ss7MD3zX1"
      },
      "source": [
        ""
      ],
      "execution_count": null,
      "outputs": []
    }
  ]
}