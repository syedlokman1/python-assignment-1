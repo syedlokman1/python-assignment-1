{
 "cells": [
  {
   "cell_type": "code",
   "execution_count": null,
   "id": "207a00df-4288-4cc1-95c9-0f63c3d576ab",
   "metadata": {},
   "outputs": [],
   "source": [
    "a=10\n",
    "b=20"
   ]
  },
  {
   "cell_type": "code",
   "execution_count": 4,
   "id": "3a0ab816-17fb-4b4f-b462-213ad4f4954d",
   "metadata": {},
   "outputs": [
    {
     "name": "stdout",
     "output_type": "stream",
     "text": [
      "200\n"
     ]
    }
   ],
   "source": [
    "print(10*20)"
   ]
  },
  {
   "cell_type": "code",
   "execution_count": 7,
   "id": "ba48ab34-b4ce-4cc1-bafa-9efec5c40999",
   "metadata": {},
   "outputs": [
    {
     "name": "stdout",
     "output_type": "stream",
     "text": [
      "0.5\n"
     ]
    }
   ],
   "source": [
    "print(10/20)"
   ]
  },
  {
   "cell_type": "code",
   "execution_count": 8,
   "id": "af994c02-e58a-42b4-ac04-9158cab1fd41",
   "metadata": {},
   "outputs": [
    {
     "name": "stdout",
     "output_type": "stream",
     "text": [
      "10\n"
     ]
    }
   ],
   "source": [
    "print(10%20)"
   ]
  },
  {
   "cell_type": "code",
   "execution_count": 9,
   "id": "d06a5102-5115-43f9-8f96-0849d8a58a28",
   "metadata": {},
   "outputs": [
    {
     "name": "stdout",
     "output_type": "stream",
     "text": [
      "200.5\n"
     ]
    }
   ],
   "source": [
    "print((10*20)+(10/20))"
   ]
  },
  {
   "cell_type": "code",
   "execution_count": null,
   "id": "3338283c-56d3-4191-8d78-7b2bd18bf63a",
   "metadata": {},
   "outputs": [
    {
     "name": "stdin",
     "output_type": "stream",
     "text": [
      "5000 5000\n",
      "6 6\n"
     ]
    }
   ],
   "source": [
    "principle = float(input(\"5000\"))\n",
    "rate = float(input(\"6\"))\n",
    "time = float(input(\"10:00(2021): \"))\n",
    "\n",
    "simple_interest= principle*rate*time/100\n",
    "\n",
    "print(\"Simple interest of \",principle,\" over a time period of\",time,\"years is\",simple_interest)"
   ]
  },
  {
   "cell_type": "code",
   "execution_count": null,
   "id": "7ca2db13-b3fd-4eb7-a010-9c1d0a05cda6",
   "metadata": {},
   "outputs": [],
   "source": []
  }
 ],
 "metadata": {
  "kernelspec": {
   "display_name": "Python 3",
   "language": "python",
   "name": "python3"
  },
  "language_info": {
   "codemirror_mode": {
    "name": "ipython",
    "version": 3
   },
   "file_extension": ".py",
   "mimetype": "text/x-python",
   "name": "python",
   "nbconvert_exporter": "python",
   "pygments_lexer": "ipython3",
   "version": "3.7.8"
  }
 },
 "nbformat": 4,
 "nbformat_minor": 5
}
